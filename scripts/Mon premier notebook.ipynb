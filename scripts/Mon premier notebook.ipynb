{
 "cells": [
  {
   "cell_type": "markdown",
   "id": "b864eb2c",
   "metadata": {},
   "source": [
    "# Mon premier notebook"
   ]
  },
  {
   "cell_type": "markdown",
   "id": "fbff8b69",
   "metadata": {},
   "source": [
    "Script récupéré sur : https://github.com/pyshs/geographie-cites-2023/blob/main/scripts/script.py"
   ]
  },
  {
   "cell_type": "code",
   "execution_count": 130,
   "id": "3e46509a",
   "metadata": {},
   "outputs": [
    {
     "name": "stdout",
     "output_type": "stream",
     "text": [
      "Écrivez une phrase: Ceci est une phrase\n",
      "Proportion de mots avec 4 lettres ou plus : 50.0\n"
     ]
    }
   ],
   "source": [
    "# créer une variable bool valant Faux\n",
    "sortie_fichier = False\n",
    "\n",
    "# créer une variable int valant 5\n",
    "nombre_min_lettres = 4\n",
    "\n",
    "# récupère l'entrée clavier de l'utilisateur et stocke dans une variable phrase\n",
    "phrase = input(\"Écrivez une phrase: \")\n",
    "\n",
    "# On coupe la phrase en mots et on récupère la liste\n",
    "liste_mots = phrase.split(\" \")\n",
    "\n",
    "# nombre de mots de ma liste\n",
    "nombre_mots = len(liste_mots)\n",
    "\n",
    "# Tester si la phrase est pas vide\n",
    "if phrase != \"\":\n",
    "    \n",
    "    # si la phrase n'est pas vide\n",
    "    compteur = 0 # on initialise un compeuter\n",
    "    for i in liste_mots: # on fait une boucle sur les mots\n",
    "        if len(i) >= nombre_min_lettres: # si le nombre de lettres est plus grand qu'un seuil\n",
    "            compteur+=1 # on incrémente le compteur\n",
    "            \n",
    "    # calcul de la proportion arrondie à 2 décimales\n",
    "    proportion = round(100*compteur/nombre_mots,2)\n",
    "    \n",
    "    # défini un dictionnaire qui résume l'information\n",
    "    informations = {\"Total\":compteur,\"Proportion\":proportion,\n",
    "                   \"Phrase\":phrase,\"Seuil\":nombre_min_lettres}\n",
    "    \n",
    "    # mise en forme de la sortie\n",
    "    sortie = f\"Proportion de mots avec {nombre_min_lettres} lettres ou plus : {proportion}\"\n",
    "    print(sortie)\n",
    "else:\n",
    "    print(\"La liste est vide\")\n",
    "    informations = \"Pas de phrase\"\n",
    "\n",
    "if sortie_fichier:\n",
    "    with open(\"resultat.txt\",\"w\") as f:\n",
    "        f.write(str(informations))"
   ]
  },
  {
   "cell_type": "markdown",
   "id": "7d84cda2",
   "metadata": {},
   "source": [
    "## Première ligne"
   ]
  },
  {
   "cell_type": "markdown",
   "id": "38525e0f",
   "metadata": {},
   "source": [
    "On crée une varibable"
   ]
  },
  {
   "cell_type": "code",
   "execution_count": 9,
   "id": "4200bcf1",
   "metadata": {},
   "outputs": [],
   "source": [
    "sortie_fichier = False"
   ]
  },
  {
   "cell_type": "markdown",
   "id": "1b35ab97",
   "metadata": {},
   "source": [
    "Un mot clé fondamental de Python"
   ]
  },
  {
   "cell_type": "code",
   "execution_count": 11,
   "id": "96aec9b5",
   "metadata": {},
   "outputs": [
    {
     "ename": "SyntaxError",
     "evalue": "cannot assign to False (2005507881.py, line 1)",
     "output_type": "error",
     "traceback": [
      "\u001b[0;36m  Input \u001b[0;32mIn [11]\u001b[0;36m\u001b[0m\n\u001b[0;31m    False = 10\u001b[0m\n\u001b[0m    ^\u001b[0m\n\u001b[0;31mSyntaxError\u001b[0m\u001b[0;31m:\u001b[0m cannot assign to False\n"
     ]
    }
   ],
   "source": [
    "False = 10"
   ]
  },
  {
   "cell_type": "code",
   "execution_count": 13,
   "id": "c3e7a472",
   "metadata": {},
   "outputs": [],
   "source": [
    "SoRtIeFiChIeR = False"
   ]
  },
  {
   "cell_type": "markdown",
   "id": "c5c045a4",
   "metadata": {},
   "source": [
    "tout caractère compte"
   ]
  },
  {
   "cell_type": "code",
   "execution_count": 14,
   "id": "09fb4f4f",
   "metadata": {},
   "outputs": [
    {
     "ename": "NameError",
     "evalue": "name 'SoRtIeFiChIer' is not defined",
     "output_type": "error",
     "traceback": [
      "\u001b[0;31m---------------------------------------------------------------------------\u001b[0m",
      "\u001b[0;31mNameError\u001b[0m                                 Traceback (most recent call last)",
      "Input \u001b[0;32mIn [14]\u001b[0m, in \u001b[0;36m<cell line: 1>\u001b[0;34m()\u001b[0m\n\u001b[0;32m----> 1\u001b[0m \u001b[43mSoRtIeFiChIer\u001b[49m\n",
      "\u001b[0;31mNameError\u001b[0m: name 'SoRtIeFiChIer' is not defined"
     ]
    }
   ],
   "source": [
    "SoRtIeFiChIer"
   ]
  },
  {
   "cell_type": "code",
   "execution_count": 15,
   "id": "4d990e71",
   "metadata": {},
   "outputs": [
    {
     "data": {
      "text/plain": [
       "bool"
      ]
     },
     "execution_count": 15,
     "metadata": {},
     "output_type": "execute_result"
    }
   ],
   "source": [
    "type(sortie_fichier)"
   ]
  },
  {
   "cell_type": "code",
   "execution_count": 21,
   "id": "21d1e6e5",
   "metadata": {},
   "outputs": [
    {
     "data": {
      "text/plain": [
       "int"
      ]
     },
     "execution_count": 21,
     "metadata": {},
     "output_type": "execute_result"
    }
   ],
   "source": [
    "type(sortie_fichier + 1)"
   ]
  },
  {
   "cell_type": "markdown",
   "id": "eabcf6f4",
   "metadata": {},
   "source": [
    "## Deuxième ligne"
   ]
  },
  {
   "cell_type": "code",
   "execution_count": 24,
   "id": "c207041b",
   "metadata": {},
   "outputs": [],
   "source": [
    "nombre_min_lettres = 4"
   ]
  },
  {
   "cell_type": "code",
   "execution_count": 25,
   "id": "67d3f255",
   "metadata": {},
   "outputs": [
    {
     "data": {
      "text/plain": [
       "int"
      ]
     },
     "execution_count": 25,
     "metadata": {},
     "output_type": "execute_result"
    }
   ],
   "source": [
    "type(nombre_min_lettres)"
   ]
  },
  {
   "cell_type": "code",
   "execution_count": 29,
   "id": "5af0caf5",
   "metadata": {},
   "outputs": [
    {
     "data": {
      "text/plain": [
       "float"
      ]
     },
     "execution_count": 29,
     "metadata": {},
     "output_type": "execute_result"
    }
   ],
   "source": [
    "type(nombre_min_lettres + 10.5)"
   ]
  },
  {
   "cell_type": "code",
   "execution_count": 33,
   "id": "cf3b9507",
   "metadata": {},
   "outputs": [],
   "source": [
    "nombre = 10.4"
   ]
  },
  {
   "cell_type": "markdown",
   "id": "8e5f732b",
   "metadata": {},
   "source": [
    "## Troisième ligne"
   ]
  },
  {
   "cell_type": "code",
   "execution_count": 44,
   "id": "309b1caf",
   "metadata": {},
   "outputs": [
    {
     "name": "stdout",
     "output_type": "stream",
     "text": [
      "Écrivez une phrase: Ceci est une phrase\n"
     ]
    }
   ],
   "source": [
    "phrase = input(\"Écrivez une phrase: \")"
   ]
  },
  {
   "cell_type": "code",
   "execution_count": 34,
   "id": "c47ef28c",
   "metadata": {},
   "outputs": [],
   "source": [
    "input?"
   ]
  },
  {
   "cell_type": "code",
   "execution_count": 35,
   "id": "b489c437",
   "metadata": {},
   "outputs": [
    {
     "name": "stdout",
     "output_type": "stream",
     "text": [
      "qddsqdsqdsdsq\n"
     ]
    },
    {
     "data": {
      "text/plain": [
       "'qddsqdsqdsdsq'"
      ]
     },
     "execution_count": 35,
     "metadata": {},
     "output_type": "execute_result"
    }
   ],
   "source": [
    "input()"
   ]
  },
  {
   "cell_type": "code",
   "execution_count": 36,
   "id": "5a25e845",
   "metadata": {},
   "outputs": [
    {
     "data": {
      "text/plain": [
       "<bound method Kernel.raw_input of <ipykernel.ipkernel.IPythonKernel object at 0x7fbff94d0be0>>"
      ]
     },
     "execution_count": 36,
     "metadata": {},
     "output_type": "execute_result"
    }
   ],
   "source": [
    "input"
   ]
  },
  {
   "cell_type": "code",
   "execution_count": 37,
   "id": "43f6b414",
   "metadata": {},
   "outputs": [
    {
     "name": "stdout",
     "output_type": "stream",
     "text": [
      "Ceci est du texte\n"
     ]
    },
    {
     "data": {
      "text/plain": [
       "''"
      ]
     },
     "execution_count": 37,
     "metadata": {},
     "output_type": "execute_result"
    }
   ],
   "source": [
    "input(\"Ceci est du texte\")"
   ]
  },
  {
   "cell_type": "code",
   "execution_count": 39,
   "id": "999d964e",
   "metadata": {},
   "outputs": [
    {
     "data": {
      "text/plain": [
       "str"
      ]
     },
     "execution_count": 39,
     "metadata": {},
     "output_type": "execute_result"
    }
   ],
   "source": [
    "type(phrase)"
   ]
  },
  {
   "cell_type": "markdown",
   "id": "53e231f2",
   "metadata": {},
   "source": [
    "Comment on change le type d'une variable"
   ]
  },
  {
   "cell_type": "code",
   "execution_count": 41,
   "id": "a2c5eaa3",
   "metadata": {},
   "outputs": [
    {
     "data": {
      "text/plain": [
       "10"
      ]
     },
     "execution_count": 41,
     "metadata": {},
     "output_type": "execute_result"
    }
   ],
   "source": [
    "int(\"10\")"
   ]
  },
  {
   "cell_type": "code",
   "execution_count": 42,
   "id": "20827c05",
   "metadata": {},
   "outputs": [
    {
     "data": {
      "text/plain": [
       "'12'"
      ]
     },
     "execution_count": 42,
     "metadata": {},
     "output_type": "execute_result"
    }
   ],
   "source": [
    "str(12)"
   ]
  },
  {
   "cell_type": "code",
   "execution_count": 49,
   "id": "6cebabe4",
   "metadata": {},
   "outputs": [
    {
     "data": {
      "text/plain": [
       "'Ceci est une phrase10'"
      ]
     },
     "execution_count": 49,
     "metadata": {},
     "output_type": "execute_result"
    }
   ],
   "source": [
    "phrase + \"10\""
   ]
  },
  {
   "cell_type": "code",
   "execution_count": 54,
   "id": "ddd37652",
   "metadata": {},
   "outputs": [
    {
     "data": {
      "text/plain": [
       "'CECI EST UNE PHRASE'"
      ]
     },
     "execution_count": 54,
     "metadata": {},
     "output_type": "execute_result"
    }
   ],
   "source": [
    "phrase.upper()"
   ]
  },
  {
   "cell_type": "code",
   "execution_count": 57,
   "id": "a26db9c2",
   "metadata": {},
   "outputs": [],
   "source": [
    "#dir(phrase)"
   ]
  },
  {
   "cell_type": "code",
   "execution_count": 58,
   "id": "c4160b9e",
   "metadata": {},
   "outputs": [
    {
     "data": {
      "text/plain": [
       "False"
      ]
     },
     "execution_count": 58,
     "metadata": {},
     "output_type": "execute_result"
    }
   ],
   "source": [
    "phrase.isnumeric()"
   ]
  },
  {
   "cell_type": "markdown",
   "id": "a8d0d5f1",
   "metadata": {},
   "source": [
    "## Ligne 4"
   ]
  },
  {
   "cell_type": "code",
   "execution_count": null,
   "id": "4d8dd4f6",
   "metadata": {},
   "outputs": [],
   "source": [
    "liste_mots = phrase.split(\" \")"
   ]
  },
  {
   "cell_type": "code",
   "execution_count": 64,
   "id": "cce80c7d",
   "metadata": {},
   "outputs": [
    {
     "data": {
      "text/plain": [
       "['Ceci', 'est', 'une', 'phrase']"
      ]
     },
     "execution_count": 64,
     "metadata": {},
     "output_type": "execute_result"
    }
   ],
   "source": [
    "phrase.replace(\",\",\" \").split(\" \")"
   ]
  },
  {
   "cell_type": "code",
   "execution_count": 65,
   "id": "52bad357",
   "metadata": {},
   "outputs": [
    {
     "data": {
      "text/plain": [
       "3"
      ]
     },
     "execution_count": 65,
     "metadata": {},
     "output_type": "execute_result"
    }
   ],
   "source": [
    "len(\"Mot\")"
   ]
  },
  {
   "cell_type": "code",
   "execution_count": 68,
   "id": "164e308a",
   "metadata": {},
   "outputs": [
    {
     "data": {
      "text/plain": [
       "['Un', 'peu', 'plus', 'longue']"
      ]
     },
     "execution_count": 68,
     "metadata": {},
     "output_type": "execute_result"
    }
   ],
   "source": [
    "liste_mots"
   ]
  },
  {
   "cell_type": "code",
   "execution_count": 69,
   "id": "1cdc60f9",
   "metadata": {},
   "outputs": [
    {
     "data": {
      "text/plain": [
       "list"
      ]
     },
     "execution_count": 69,
     "metadata": {},
     "output_type": "execute_result"
    }
   ],
   "source": [
    "type(liste_mots)"
   ]
  },
  {
   "cell_type": "markdown",
   "id": "f16c92d9",
   "metadata": {},
   "source": [
    "Ajouter un élément"
   ]
  },
  {
   "cell_type": "code",
   "execution_count": 70,
   "id": "32dd8a9e",
   "metadata": {},
   "outputs": [],
   "source": [
    "liste_mots.append(\"nouveau\")"
   ]
  },
  {
   "cell_type": "code",
   "execution_count": 71,
   "id": "93fdfb77",
   "metadata": {},
   "outputs": [
    {
     "data": {
      "text/plain": [
       "['Un', 'peu', 'plus', 'longue', 'nouveau']"
      ]
     },
     "execution_count": 71,
     "metadata": {},
     "output_type": "execute_result"
    }
   ],
   "source": [
    "liste_mots"
   ]
  },
  {
   "cell_type": "code",
   "execution_count": 72,
   "id": "65bad996",
   "metadata": {},
   "outputs": [
    {
     "data": {
      "text/plain": [
       "'Un'"
      ]
     },
     "execution_count": 72,
     "metadata": {},
     "output_type": "execute_result"
    }
   ],
   "source": [
    "liste_mots[0]"
   ]
  },
  {
   "cell_type": "code",
   "execution_count": 74,
   "id": "7614efb1",
   "metadata": {},
   "outputs": [
    {
     "data": {
      "text/plain": [
       "['Un', 'peu']"
      ]
     },
     "execution_count": 74,
     "metadata": {},
     "output_type": "execute_result"
    }
   ],
   "source": [
    "liste_mots[0:2]"
   ]
  },
  {
   "cell_type": "code",
   "execution_count": 75,
   "id": "7f3cb2b6",
   "metadata": {},
   "outputs": [
    {
     "data": {
      "text/plain": [
       "'nouveau'"
      ]
     },
     "execution_count": 75,
     "metadata": {},
     "output_type": "execute_result"
    }
   ],
   "source": [
    "liste_mots[-1]"
   ]
  },
  {
   "cell_type": "code",
   "execution_count": 76,
   "id": "9ef3bacc",
   "metadata": {
    "scrolled": true
   },
   "outputs": [
    {
     "data": {
      "text/plain": [
       "['a', 'b', 1, 2]"
      ]
     },
     "execution_count": 76,
     "metadata": {},
     "output_type": "execute_result"
    }
   ],
   "source": [
    "[\"a\",\"b\"] + [1,2]"
   ]
  },
  {
   "cell_type": "markdown",
   "id": "b4ac27b7",
   "metadata": {},
   "source": [
    "Liste de liste"
   ]
  },
  {
   "cell_type": "code",
   "execution_count": 80,
   "id": "a3372eca",
   "metadata": {},
   "outputs": [],
   "source": [
    "ma_liste = [[\"a\",\"b\"],[1,2,3]]"
   ]
  },
  {
   "cell_type": "code",
   "execution_count": 81,
   "id": "1dd10869",
   "metadata": {},
   "outputs": [
    {
     "data": {
      "text/plain": [
       "2"
      ]
     },
     "execution_count": 81,
     "metadata": {},
     "output_type": "execute_result"
    }
   ],
   "source": [
    "len(ma_liste)"
   ]
  },
  {
   "cell_type": "code",
   "execution_count": 83,
   "id": "0cc9ca2f",
   "metadata": {},
   "outputs": [
    {
     "data": {
      "text/plain": [
       "'a'"
      ]
     },
     "execution_count": 83,
     "metadata": {},
     "output_type": "execute_result"
    }
   ],
   "source": [
    "ma_liste[0][0]"
   ]
  },
  {
   "cell_type": "markdown",
   "id": "d51457b3",
   "metadata": {},
   "source": [
    "Introduction d'une fonction"
   ]
  },
  {
   "cell_type": "code",
   "execution_count": 87,
   "id": "f00a5ec6",
   "metadata": {},
   "outputs": [
    {
     "data": {
      "text/plain": [
       "[0, 1, 2, 3, 4, 5, 6, 7, 8, 9]"
      ]
     },
     "execution_count": 87,
     "metadata": {},
     "output_type": "execute_result"
    }
   ],
   "source": [
    "list(range(10))"
   ]
  },
  {
   "cell_type": "markdown",
   "id": "a7dcb825",
   "metadata": {},
   "source": [
    "## Parenthèse\n",
    "\n",
    "les dictionnaires :"
   ]
  },
  {
   "cell_type": "code",
   "execution_count": 92,
   "id": "6dd203e3",
   "metadata": {},
   "outputs": [],
   "source": [
    "dictionnaire = {\"entrée\":\"valeur\",\"autre\":4,\"blob\":[1,2,3]}"
   ]
  },
  {
   "cell_type": "code",
   "execution_count": 93,
   "id": "01502d3e",
   "metadata": {},
   "outputs": [
    {
     "data": {
      "text/plain": [
       "3"
      ]
     },
     "execution_count": 93,
     "metadata": {},
     "output_type": "execute_result"
    }
   ],
   "source": [
    "len(dictionnaire)"
   ]
  },
  {
   "cell_type": "code",
   "execution_count": 94,
   "id": "b672c71c",
   "metadata": {},
   "outputs": [
    {
     "data": {
      "text/plain": [
       "dict"
      ]
     },
     "execution_count": 94,
     "metadata": {},
     "output_type": "execute_result"
    }
   ],
   "source": [
    "type(dictionnaire)"
   ]
  },
  {
   "cell_type": "code",
   "execution_count": 95,
   "id": "0e94c41b",
   "metadata": {},
   "outputs": [
    {
     "data": {
      "text/plain": [
       "'valeur'"
      ]
     },
     "execution_count": 95,
     "metadata": {},
     "output_type": "execute_result"
    }
   ],
   "source": [
    "dictionnaire[\"entrée\"]"
   ]
  },
  {
   "cell_type": "markdown",
   "id": "21d1a42f",
   "metadata": {},
   "source": [
    "## Ligne 6"
   ]
  },
  {
   "cell_type": "markdown",
   "id": "98a1914e",
   "metadata": {},
   "source": [
    "```` python\n",
    "    if nombre_mots != 0:\n",
    "````"
   ]
  },
  {
   "cell_type": "markdown",
   "id": "6cd37b6c",
   "metadata": {},
   "source": [
    "Condition en générale"
   ]
  },
  {
   "cell_type": "markdown",
   "id": "c578d5bf",
   "metadata": {},
   "source": [
    "```` python\n",
    "    if CONDITION VRAIE:\n",
    "        action si vraie\n",
    "    else:\n",
    "        action si faux\n",
    "````"
   ]
  },
  {
   "cell_type": "code",
   "execution_count": 98,
   "id": "24fe3770",
   "metadata": {},
   "outputs": [
    {
     "name": "stdout",
     "output_type": "stream",
     "text": [
      "Autre\n"
     ]
    }
   ],
   "source": [
    "if False:\n",
    "    print(\"Coucou\")\n",
    "else:\n",
    "    print(\"Autre\")"
   ]
  },
  {
   "cell_type": "markdown",
   "id": "f37aba9e",
   "metadata": {},
   "source": [
    "Equation conditionnelle"
   ]
  },
  {
   "cell_type": "code",
   "execution_count": 100,
   "id": "25f34e64",
   "metadata": {},
   "outputs": [],
   "source": [
    "if 10 == 5:\n",
    "    print(\"Coucou\")"
   ]
  },
  {
   "cell_type": "code",
   "execution_count": 101,
   "id": "dea12bbc",
   "metadata": {
    "scrolled": true
   },
   "outputs": [
    {
     "data": {
      "text/plain": [
       "False"
      ]
     },
     "execution_count": 101,
     "metadata": {},
     "output_type": "execute_result"
    }
   ],
   "source": [
    "\"coucou\" in [\"a\",\"b\",\"c\"]"
   ]
  },
  {
   "cell_type": "code",
   "execution_count": 102,
   "id": "7eea134f",
   "metadata": {},
   "outputs": [
    {
     "data": {
      "text/plain": [
       "False"
      ]
     },
     "execution_count": 102,
     "metadata": {},
     "output_type": "execute_result"
    }
   ],
   "source": [
    "(\"coucou\" in [\"a\",\"b\",\"c\"]) & (10==5)"
   ]
  },
  {
   "cell_type": "code",
   "execution_count": 103,
   "id": "99fd2c14",
   "metadata": {},
   "outputs": [
    {
     "data": {
      "text/plain": [
       "True"
      ]
     },
     "execution_count": 103,
     "metadata": {},
     "output_type": "execute_result"
    }
   ],
   "source": [
    "type(10) == int"
   ]
  },
  {
   "cell_type": "markdown",
   "id": "d90f19f2",
   "metadata": {},
   "source": [
    "Pourquoi le script ne fonctionne pas"
   ]
  },
  {
   "cell_type": "code",
   "execution_count": 107,
   "id": "82371d91",
   "metadata": {},
   "outputs": [
    {
     "name": "stdout",
     "output_type": "stream",
     "text": [
      "\n"
     ]
    },
    {
     "data": {
      "text/plain": [
       "1"
      ]
     },
     "execution_count": 107,
     "metadata": {},
     "output_type": "execute_result"
    }
   ],
   "source": [
    "len(input().split(\" \"))"
   ]
  },
  {
   "cell_type": "markdown",
   "id": "68a9b07c",
   "metadata": {},
   "source": [
    "## Bloc si phrase non nulle"
   ]
  },
  {
   "cell_type": "code",
   "execution_count": null,
   "id": "e34c61cb",
   "metadata": {},
   "outputs": [],
   "source": [
    "    compteur = 0\n",
    "    for i in liste_mots:\n",
    "        if len(i) >= nombre_min_lettres:\n",
    "            compteur+=1\n",
    "    proportion = round(100*compteur/nombre_mots,2)\n",
    "    informations = {\"Total\":compteur,\"Proportion\":proportion,\n",
    "                   \"Phrase\":phrase,\"Seuil\":nombre_min_lettres}\n",
    "    sortie = f\"Proportion de mots avec {nombre_min_lettres} lettres ou plus : {proportion}\"\n",
    "    print(sortie)"
   ]
  },
  {
   "cell_type": "markdown",
   "id": "95166dcd",
   "metadata": {},
   "source": [
    "## Ligne N +1 "
   ]
  },
  {
   "cell_type": "markdown",
   "id": "46df06fe",
   "metadata": {},
   "source": [
    "Variable compteur à 0"
   ]
  },
  {
   "cell_type": "markdown",
   "id": "2032a577",
   "metadata": {},
   "source": [
    "## Ligne N+2 : boucle"
   ]
  },
  {
   "cell_type": "markdown",
   "id": "cac79bfd",
   "metadata": {},
   "source": [
    "Afficher chaque mot de ma phrase"
   ]
  },
  {
   "cell_type": "code",
   "execution_count": 112,
   "id": "0fd9261f",
   "metadata": {},
   "outputs": [],
   "source": [
    "liste_mots = [\"Ceci\",\"est\",\"un\",\"mot\"]"
   ]
  },
  {
   "cell_type": "code",
   "execution_count": 113,
   "id": "7d3bcbce",
   "metadata": {},
   "outputs": [
    {
     "name": "stdout",
     "output_type": "stream",
     "text": [
      "Ceci\n",
      "est\n",
      "un\n",
      "mot\n"
     ]
    }
   ],
   "source": [
    "print(liste_mots[0])\n",
    "print(liste_mots[1])\n",
    "print(liste_mots[2])\n",
    "print(liste_mots[3])"
   ]
  },
  {
   "cell_type": "code",
   "execution_count": 114,
   "id": "ddb0ebe2",
   "metadata": {},
   "outputs": [
    {
     "name": "stdout",
     "output_type": "stream",
     "text": [
      "Ceci\n",
      "est\n",
      "un\n",
      "mot\n"
     ]
    }
   ],
   "source": [
    "for blorp in liste_mots:\n",
    "    print(blorp)"
   ]
  },
  {
   "cell_type": "code",
   "execution_count": 115,
   "id": "9b49e149",
   "metadata": {},
   "outputs": [
    {
     "data": {
      "text/plain": [
       "'mot'"
      ]
     },
     "execution_count": 115,
     "metadata": {},
     "output_type": "execute_result"
    }
   ],
   "source": [
    "blorp"
   ]
  },
  {
   "cell_type": "code",
   "execution_count": 116,
   "id": "a393d83d",
   "metadata": {},
   "outputs": [
    {
     "name": "stdout",
     "output_type": "stream",
     "text": [
      "0\n",
      "2\n",
      "3\n",
      "4\n"
     ]
    }
   ],
   "source": [
    "for i in [0,2,3,4]:\n",
    "    print(i)"
   ]
  },
  {
   "cell_type": "code",
   "execution_count": 118,
   "id": "1e48db51",
   "metadata": {},
   "outputs": [
    {
     "name": "stdout",
     "output_type": "stream",
     "text": [
      "a 1\n",
      "b 2\n"
     ]
    }
   ],
   "source": [
    "dic = {\"a\":1,\"b\":2}\n",
    "for i in dic:\n",
    "    print(i,dic[i])"
   ]
  },
  {
   "cell_type": "markdown",
   "id": "f7ae349b",
   "metadata": {},
   "source": [
    "Compréhension de liste"
   ]
  },
  {
   "cell_type": "code",
   "execution_count": 121,
   "id": "7bee074e",
   "metadata": {},
   "outputs": [
    {
     "data": {
      "text/plain": [
       "[4, 3, 2, 3]"
      ]
     },
     "execution_count": 121,
     "metadata": {},
     "output_type": "execute_result"
    }
   ],
   "source": [
    "nouvelle_liste = []\n",
    "for i in liste_mots:\n",
    "    nouvelle_liste.append(len(i))\n",
    "nouvelle_liste"
   ]
  },
  {
   "cell_type": "code",
   "execution_count": 123,
   "id": "55b846f5",
   "metadata": {},
   "outputs": [],
   "source": [
    "nouvelle_liste = [len(i) for i in liste_mots]"
   ]
  },
  {
   "cell_type": "code",
   "execution_count": 128,
   "id": "a0365304",
   "metadata": {},
   "outputs": [
    {
     "data": {
      "text/plain": [
       "0"
      ]
     },
     "execution_count": 128,
     "metadata": {},
     "output_type": "execute_result"
    }
   ],
   "source": [
    "sum([len(i)>nombre_min_lettres for i in liste_mots])"
   ]
  },
  {
   "cell_type": "markdown",
   "id": "5dd66723",
   "metadata": {},
   "source": [
    "(compteur = compteur + 1) même chose que compteur += 1 "
   ]
  },
  {
   "cell_type": "markdown",
   "id": "58dc9dad",
   "metadata": {},
   "source": [
    "### Ligne de mise en forme du texte"
   ]
  },
  {
   "cell_type": "code",
   "execution_count": 135,
   "id": "752685c9",
   "metadata": {},
   "outputs": [
    {
     "name": "stdout",
     "output_type": "stream",
     "text": [
      "Ma proportion est 50.0\n"
     ]
    }
   ],
   "source": [
    "print(\"Ma proportion est \" + str(proportion))"
   ]
  },
  {
   "cell_type": "code",
   "execution_count": 136,
   "id": "71a76350",
   "metadata": {},
   "outputs": [
    {
     "data": {
      "text/plain": [
       "'Proportion de mots avec 4 lettres ou plus : 50.0'"
      ]
     },
     "execution_count": 136,
     "metadata": {},
     "output_type": "execute_result"
    }
   ],
   "source": [
    "sortie = f\"Proportion de mots avec {nombre_min_lettres} lettres ou plus : {proportion}\"\n",
    "sortie"
   ]
  },
  {
   "cell_type": "code",
   "execution_count": 139,
   "id": "8467b28f",
   "metadata": {},
   "outputs": [
    {
     "data": {
      "text/plain": [
       "'Proportion de mots avec 4 lettres ou plus : 50'"
      ]
     },
     "execution_count": 139,
     "metadata": {},
     "output_type": "execute_result"
    }
   ],
   "source": [
    "sortie = \"Proportion de mots avec %d lettres ou plus : %d\" % (nombre_min_lettres,proportion)\n",
    "sortie"
   ]
  },
  {
   "cell_type": "markdown",
   "id": "f707bc29",
   "metadata": {},
   "source": [
    "### Ecriture / lecture sur l'ordinateur"
   ]
  },
  {
   "cell_type": "code",
   "execution_count": 145,
   "id": "2c47c678",
   "metadata": {},
   "outputs": [],
   "source": [
    "sortie_fichier = True\n",
    "if sortie_fichier:\n",
    "    with open(\"resultat.txt\",\"w\") as f:\n",
    "        f.write(str(informations))"
   ]
  },
  {
   "cell_type": "markdown",
   "id": "be74326d",
   "metadata": {},
   "source": [
    "ouvre un fichier"
   ]
  },
  {
   "cell_type": "code",
   "execution_count": 141,
   "id": "f66fcf1b",
   "metadata": {},
   "outputs": [],
   "source": [
    "fichier = open(\"resutlats.txt\",\"w\")"
   ]
  },
  {
   "cell_type": "markdown",
   "id": "0b78f78c",
   "metadata": {},
   "source": [
    "Faire l'action"
   ]
  },
  {
   "cell_type": "code",
   "execution_count": 143,
   "id": "84150315",
   "metadata": {},
   "outputs": [
    {
     "data": {
      "text/plain": [
       "6"
      ]
     },
     "execution_count": 143,
     "metadata": {},
     "output_type": "execute_result"
    }
   ],
   "source": [
    "fichier.write(\"Coucou\")"
   ]
  },
  {
   "cell_type": "markdown",
   "id": "60aa6473",
   "metadata": {},
   "source": [
    "On ferme"
   ]
  },
  {
   "cell_type": "code",
   "execution_count": 144,
   "id": "0173956e",
   "metadata": {},
   "outputs": [],
   "source": [
    "fichier.close()"
   ]
  },
  {
   "cell_type": "markdown",
   "id": "e46c2832",
   "metadata": {},
   "source": [
    "## Définir une fonction"
   ]
  },
  {
   "cell_type": "markdown",
   "id": "c478bfbe",
   "metadata": {},
   "source": [
    "Fonction :\n",
    "- entrée : un mot\n",
    "- sortie : Vrai si le mot a plus de 5 caractères ou faux sinon\n",
    "\n"
   ]
  },
  {
   "cell_type": "code",
   "execution_count": 148,
   "id": "b42fa5bd",
   "metadata": {},
   "outputs": [
    {
     "data": {
      "text/plain": [
       "False"
      ]
     },
     "execution_count": 148,
     "metadata": {},
     "output_type": "execute_result"
    }
   ],
   "source": [
    "mot = \"Mot\"\n",
    "len(mot)>5"
   ]
  },
  {
   "cell_type": "code",
   "execution_count": 152,
   "id": "5acfd686",
   "metadata": {},
   "outputs": [],
   "source": [
    "def mot_sup_5(x):\n",
    "    return len(x)>5"
   ]
  },
  {
   "cell_type": "code",
   "execution_count": 153,
   "id": "4bdd3066",
   "metadata": {},
   "outputs": [
    {
     "data": {
      "text/plain": [
       "True"
      ]
     },
     "execution_count": 153,
     "metadata": {},
     "output_type": "execute_result"
    }
   ],
   "source": [
    "mot_sup_5(\"Coucou\")"
   ]
  },
  {
   "cell_type": "markdown",
   "id": "8240f285",
   "metadata": {},
   "source": [
    "Montons en généralité"
   ]
  },
  {
   "cell_type": "code",
   "execution_count": 161,
   "id": "897d4d65",
   "metadata": {},
   "outputs": [],
   "source": [
    "def mot_sup_n(mot,nb):\n",
    "    evaluation = len(mot)>nb\n",
    "    return evaluation"
   ]
  },
  {
   "cell_type": "code",
   "execution_count": 162,
   "id": "6ef312c2",
   "metadata": {},
   "outputs": [
    {
     "data": {
      "text/plain": [
       "False"
      ]
     },
     "execution_count": 162,
     "metadata": {},
     "output_type": "execute_result"
    }
   ],
   "source": [
    "mot_sup_n(\"Coucou\",nb = 10)"
   ]
  },
  {
   "cell_type": "markdown",
   "id": "a539f7f2",
   "metadata": {},
   "source": [
    "Réécrivons notre script en fonction\n",
    "\n",
    "- qui prend en entrée une phrase\n",
    "- qui renvoie le dictionnaire des paramètres"
   ]
  },
  {
   "cell_type": "code",
   "execution_count": 163,
   "id": "95fc2d87",
   "metadata": {},
   "outputs": [],
   "source": [
    "def compter_mots(phrase):\n",
    "    nombre_min_lettres = 4\n",
    "    liste_mots = phrase.split(\" \")\n",
    "    nombre_mots = len(liste_mots)\n",
    "    if phrase != \"\":\n",
    "        compteur = 0 # on initialise un compeuter\n",
    "        for i in liste_mots: # on fait une boucle sur les mots\n",
    "            if len(i) >= nombre_min_lettres: # si le nombre de lettres est plus grand qu'un seuil\n",
    "                compteur+=1 # on incrémente le compteur\n",
    "        proportion = round(100*compteur/nombre_mots,2)\n",
    "        informations = {\"Total\":compteur,\"Proportion\":proportion,\n",
    "                       \"Phrase\":phrase,\"Seuil\":nombre_min_lettres}\n",
    "    else:\n",
    "        print(\"La liste est vide\")\n",
    "        informations = \"Pas de phrase\"\n",
    "    return informations"
   ]
  },
  {
   "cell_type": "markdown",
   "id": "fd604d52",
   "metadata": {},
   "source": [
    "Réécrire le script"
   ]
  },
  {
   "cell_type": "code",
   "execution_count": 167,
   "id": "64537dad",
   "metadata": {},
   "outputs": [
    {
     "name": "stdout",
     "output_type": "stream",
     "text": [
      "dsds dsds ds\n"
     ]
    },
    {
     "data": {
      "text/plain": [
       "'Proportion de mots avec 4 lettres ou plus : 50.0'"
      ]
     },
     "execution_count": 167,
     "metadata": {},
     "output_type": "execute_result"
    }
   ],
   "source": [
    "phrase = input()\n",
    "informations = compter_mots(phrase)\n",
    "sortie = f\"Proportion de mots avec {nombre_min_lettres} lettres ou plus : {proportion}\"\n",
    "sortie"
   ]
  }
 ],
 "metadata": {
  "kernelspec": {
   "display_name": "Python 3 (ipykernel)",
   "language": "python",
   "name": "python3"
  },
  "language_info": {
   "codemirror_mode": {
    "name": "ipython",
    "version": 3
   },
   "file_extension": ".py",
   "mimetype": "text/x-python",
   "name": "python",
   "nbconvert_exporter": "python",
   "pygments_lexer": "ipython3",
   "version": "3.9.12"
  }
 },
 "nbformat": 4,
 "nbformat_minor": 5
}
