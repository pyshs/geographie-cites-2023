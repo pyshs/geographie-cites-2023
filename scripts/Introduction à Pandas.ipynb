{
 "cells": [
  {
   "cell_type": "markdown",
   "id": "fb0c893e",
   "metadata": {},
   "source": [
    "# Découverte de pandas"
   ]
  },
  {
   "cell_type": "code",
   "execution_count": 1,
   "id": "257055ea",
   "metadata": {},
   "outputs": [],
   "source": [
    "import pandas as pd"
   ]
  },
  {
   "cell_type": "markdown",
   "id": "e40967d7",
   "metadata": {},
   "source": [
    "Un objet : le dataframe"
   ]
  },
  {
   "cell_type": "code",
   "execution_count": 6,
   "id": "2d1b2c34",
   "metadata": {},
   "outputs": [],
   "source": [
    "df = pd.DataFrame([\n",
    "                   [5,3,1],\n",
    "                   [\"se\",\"la\",\"les\"],\n",
    "                    [\"a\",\"b\",\"c\"]\n",
    "                  ])"
   ]
  },
  {
   "cell_type": "code",
   "execution_count": 7,
   "id": "d0102b95",
   "metadata": {},
   "outputs": [
    {
     "data": {
      "text/plain": [
       "pandas.core.frame.DataFrame"
      ]
     },
     "execution_count": 7,
     "metadata": {},
     "output_type": "execute_result"
    }
   ],
   "source": [
    "type(df)"
   ]
  },
  {
   "cell_type": "code",
   "execution_count": 9,
   "id": "d5128f8e",
   "metadata": {},
   "outputs": [],
   "source": [
    "df.columns = [\"colonne1\",\"colonne2\",\"colonne3\"]"
   ]
  },
  {
   "cell_type": "code",
   "execution_count": 19,
   "id": "933bbc61",
   "metadata": {},
   "outputs": [
    {
     "data": {
      "text/html": [
       "<div>\n",
       "<style scoped>\n",
       "    .dataframe tbody tr th:only-of-type {\n",
       "        vertical-align: middle;\n",
       "    }\n",
       "\n",
       "    .dataframe tbody tr th {\n",
       "        vertical-align: top;\n",
       "    }\n",
       "\n",
       "    .dataframe thead th {\n",
       "        text-align: right;\n",
       "    }\n",
       "</style>\n",
       "<table border=\"1\" class=\"dataframe\">\n",
       "  <thead>\n",
       "    <tr style=\"text-align: right;\">\n",
       "      <th></th>\n",
       "      <th>colonne1</th>\n",
       "      <th>colonne2</th>\n",
       "      <th>colonne3</th>\n",
       "    </tr>\n",
       "  </thead>\n",
       "  <tbody>\n",
       "    <tr>\n",
       "      <th>0</th>\n",
       "      <td>5</td>\n",
       "      <td>3</td>\n",
       "      <td>1</td>\n",
       "    </tr>\n",
       "    <tr>\n",
       "      <th>1</th>\n",
       "      <td>se</td>\n",
       "      <td>la</td>\n",
       "      <td>les</td>\n",
       "    </tr>\n",
       "    <tr>\n",
       "      <th>2</th>\n",
       "      <td>a</td>\n",
       "      <td>b</td>\n",
       "      <td>c</td>\n",
       "    </tr>\n",
       "  </tbody>\n",
       "</table>\n",
       "</div>"
      ],
      "text/plain": [
       "  colonne1 colonne2 colonne3\n",
       "0        5        3        1\n",
       "1       se       la      les\n",
       "2        a        b        c"
      ]
     },
     "execution_count": 19,
     "metadata": {},
     "output_type": "execute_result"
    }
   ],
   "source": [
    "df"
   ]
  },
  {
   "cell_type": "code",
   "execution_count": 15,
   "id": "d4927ab0",
   "metadata": {},
   "outputs": [
    {
     "data": {
      "text/plain": [
       "0     5\n",
       "1    se\n",
       "2     a\n",
       "Name: colonne1, dtype: object"
      ]
     },
     "execution_count": 15,
     "metadata": {},
     "output_type": "execute_result"
    }
   ],
   "source": [
    "df[\"colonne1\"]"
   ]
  },
  {
   "cell_type": "code",
   "execution_count": 17,
   "id": "e2d9bf74",
   "metadata": {},
   "outputs": [
    {
     "data": {
      "text/plain": [
       "colonne1     se\n",
       "colonne2     la\n",
       "colonne3    les\n",
       "Name: 1, dtype: object"
      ]
     },
     "execution_count": 17,
     "metadata": {},
     "output_type": "execute_result"
    }
   ],
   "source": [
    "df.loc[1]"
   ]
  },
  {
   "cell_type": "code",
   "execution_count": 18,
   "id": "f7388f53",
   "metadata": {},
   "outputs": [
    {
     "data": {
      "text/plain": [
       "'la'"
      ]
     },
     "execution_count": 18,
     "metadata": {},
     "output_type": "execute_result"
    }
   ],
   "source": [
    "df.loc[1,\"colonne2\"]"
   ]
  },
  {
   "cell_type": "code",
   "execution_count": 20,
   "id": "0024831a",
   "metadata": {},
   "outputs": [],
   "source": [
    "df[\"ma nouvelle colonne\"] = [45,34,55]"
   ]
  },
  {
   "cell_type": "code",
   "execution_count": 21,
   "id": "48638a0f",
   "metadata": {},
   "outputs": [
    {
     "data": {
      "text/html": [
       "<div>\n",
       "<style scoped>\n",
       "    .dataframe tbody tr th:only-of-type {\n",
       "        vertical-align: middle;\n",
       "    }\n",
       "\n",
       "    .dataframe tbody tr th {\n",
       "        vertical-align: top;\n",
       "    }\n",
       "\n",
       "    .dataframe thead th {\n",
       "        text-align: right;\n",
       "    }\n",
       "</style>\n",
       "<table border=\"1\" class=\"dataframe\">\n",
       "  <thead>\n",
       "    <tr style=\"text-align: right;\">\n",
       "      <th></th>\n",
       "      <th>colonne1</th>\n",
       "      <th>colonne2</th>\n",
       "      <th>colonne3</th>\n",
       "      <th>ma nouvelle colonne</th>\n",
       "    </tr>\n",
       "  </thead>\n",
       "  <tbody>\n",
       "    <tr>\n",
       "      <th>0</th>\n",
       "      <td>5</td>\n",
       "      <td>3</td>\n",
       "      <td>1</td>\n",
       "      <td>45</td>\n",
       "    </tr>\n",
       "    <tr>\n",
       "      <th>1</th>\n",
       "      <td>se</td>\n",
       "      <td>la</td>\n",
       "      <td>les</td>\n",
       "      <td>34</td>\n",
       "    </tr>\n",
       "    <tr>\n",
       "      <th>2</th>\n",
       "      <td>a</td>\n",
       "      <td>b</td>\n",
       "      <td>c</td>\n",
       "      <td>55</td>\n",
       "    </tr>\n",
       "  </tbody>\n",
       "</table>\n",
       "</div>"
      ],
      "text/plain": [
       "  colonne1 colonne2 colonne3  ma nouvelle colonne\n",
       "0        5        3        1                   45\n",
       "1       se       la      les                   34\n",
       "2        a        b        c                   55"
      ]
     },
     "execution_count": 21,
     "metadata": {},
     "output_type": "execute_result"
    }
   ],
   "source": [
    "df"
   ]
  },
  {
   "cell_type": "markdown",
   "id": "c911b381",
   "metadata": {},
   "source": [
    "## Enquête SOSP\n",
    "\n",
    "https://zenodo.org/record/5827206"
   ]
  },
  {
   "cell_type": "code",
   "execution_count": 25,
   "id": "5c274693",
   "metadata": {},
   "outputs": [],
   "source": [
    "url = \"https://zenodo.org/record/5827206/files/SOSP_Export_base%20de%20donn%C3%A9es%20diffusable.csv?download=1\"\n",
    "df = pd.read_csv(url)"
   ]
  },
  {
   "cell_type": "code",
   "execution_count": 26,
   "id": "3a5b7348",
   "metadata": {},
   "outputs": [],
   "source": [
    "df.to_excel(\"fichier.xlsx\")"
   ]
  },
  {
   "cell_type": "code",
   "execution_count": 28,
   "id": "cf58770b",
   "metadata": {},
   "outputs": [],
   "source": [
    "df = pd.read_csv(\"../../../../Téléchargements/SOSP_Export_base de données diffusable.csv\")"
   ]
  },
  {
   "cell_type": "markdown",
   "id": "be0bc28d",
   "metadata": {},
   "source": [
    "Tester les valeurs nulles"
   ]
  },
  {
   "cell_type": "code",
   "execution_count": 32,
   "id": "4184c47c",
   "metadata": {},
   "outputs": [
    {
     "data": {
      "text/plain": [
       "0"
      ]
     },
     "execution_count": 32,
     "metadata": {},
     "output_type": "execute_result"
    }
   ],
   "source": [
    "df[\"annee_premiere_publi\"].isna().sum()"
   ]
  },
  {
   "cell_type": "code",
   "execution_count": 34,
   "id": "50ac7674",
   "metadata": {},
   "outputs": [
    {
     "data": {
      "text/plain": [
       "2004.030303030303"
      ]
     },
     "execution_count": 34,
     "metadata": {},
     "output_type": "execute_result"
    }
   ],
   "source": [
    "df[\"annee_premiere_publi\"].mean()"
   ]
  },
  {
   "cell_type": "code",
   "execution_count": 35,
   "id": "add7e8f7",
   "metadata": {},
   "outputs": [
    {
     "data": {
      "text/plain": [
       "2005.0"
      ]
     },
     "execution_count": 35,
     "metadata": {},
     "output_type": "execute_result"
    }
   ],
   "source": [
    "df[\"annee_premiere_publi\"].median()"
   ]
  },
  {
   "cell_type": "code",
   "execution_count": 36,
   "id": "0a109dca",
   "metadata": {},
   "outputs": [
    {
     "data": {
      "text/plain": [
       "count    1089.000000\n",
       "mean     2004.030303\n",
       "std        11.362671\n",
       "min      1968.000000\n",
       "25%      1996.000000\n",
       "50%      2005.000000\n",
       "75%      2014.000000\n",
       "max      2020.000000\n",
       "Name: annee_premiere_publi, dtype: float64"
      ]
     },
     "execution_count": 36,
     "metadata": {},
     "output_type": "execute_result"
    }
   ],
   "source": [
    "df[\"annee_premiere_publi\"].describe()"
   ]
  },
  {
   "cell_type": "code",
   "execution_count": 43,
   "id": "0570eecf",
   "metadata": {},
   "outputs": [
    {
     "data": {
      "text/plain": [
       "<AxesSubplot:title={'center':'Distribution années de publication'}, ylabel='Frequency'>"
      ]
     },
     "execution_count": 43,
     "metadata": {},
     "output_type": "execute_result"
    },
    {
     "data": {
      "image/png": "[encoded data removed]",
      "text/plain": [
       "<Figure size 432x288 with 1 Axes>"
      ]
     },
     "metadata": {
      "needs_background": "light"
     },
     "output_type": "display_data"
    }
   ],
   "source": [
    "df[\"annee_premiere_publi\"].plot(kind=\"hist\",\n",
    "                                title=\"Distribution années de publication\")"
   ]
  },
  {
   "cell_type": "markdown",
   "id": "4c13dd0e",
   "metadata": {},
   "source": [
    "Gérer les valeurs nulles"
   ]
  },
  {
   "cell_type": "code",
   "execution_count": 47,
   "id": "d085aa8f",
   "metadata": {},
   "outputs": [],
   "source": [
    "df[\"disciplines_9niv\"] = df[\"disciplines_9niv\"].fillna(\"Valeur manquante\")"
   ]
  },
  {
   "cell_type": "code",
   "execution_count": 48,
   "id": "5e8807a6",
   "metadata": {},
   "outputs": [
    {
     "data": {
      "text/plain": [
       "disciplines_9niv\n",
       "Sciences humaines                                 274\n",
       "Sciences sociales                                 161\n",
       "Mathématiques, Informatiques                      138\n",
       "Sciences du vivant                                138\n",
       "Physique, Sciences de la terre et de l'Univers    103\n",
       "Science de l'ingénieur                             91\n",
       "Chimie, Matériaux                                  59\n",
       "Lettres et Arts                                    58\n",
       "Médecine                                           54\n",
       "Valeur manquante                                   13\n",
       "Name: count, dtype: int64"
      ]
     },
     "execution_count": 48,
     "metadata": {},
     "output_type": "execute_result"
    }
   ],
   "source": [
    "df[\"disciplines_9niv\"].value_counts()"
   ]
  },
  {
   "cell_type": "code",
   "execution_count": 50,
   "id": "32b94102",
   "metadata": {},
   "outputs": [
    {
     "data": {
      "text/plain": [
       "<AxesSubplot:ylabel='disciplines_9niv'>"
      ]
     },
     "execution_count": 50,
     "metadata": {},
     "output_type": "execute_result"
    },
    {
     "data": {
      "image/png": "[encoded data removed]",
      "text/plain": [
       "<Figure size 432x288 with 1 Axes>"
      ]
     },
     "metadata": {
      "needs_background": "light"
     },
     "output_type": "display_data"
    }
   ],
   "source": [
    "df[\"disciplines_9niv\"].value_counts().plot(kind=\"barh\")"
   ]
  },
  {
   "cell_type": "markdown",
   "id": "4fe6f267",
   "metadata": {},
   "source": [
    "Recoder une variable"
   ]
  },
  {
   "cell_type": "code",
   "execution_count": 51,
   "id": "8279e586",
   "metadata": {},
   "outputs": [
    {
     "data": {
      "text/plain": [
       "array(['Sciences humaines', 'Médecine', 'Mathématiques, Informatiques',\n",
       "       'Sciences du vivant', 'Sciences sociales', 'Lettres et Arts',\n",
       "       'Chimie, Matériaux', \"Science de l'ingénieur\",\n",
       "       \"Physique, Sciences de la terre et de l'Univers\",\n",
       "       'Valeur manquante'], dtype=object)"
      ]
     },
     "execution_count": 51,
     "metadata": {},
     "output_type": "execute_result"
    }
   ],
   "source": [
    "df[\"disciplines_9niv\"].unique()"
   ]
  },
  {
   "cell_type": "code",
   "execution_count": 55,
   "id": "33a9bec3",
   "metadata": {},
   "outputs": [],
   "source": [
    "dic_reco = {\"Sciences humaines\":\"SHS\",\"Sciences sociales\":\"SHS\"}\n",
    "df[\"disciplines_reco\"] = df[\"disciplines_9niv\"].replace(dic_reco)"
   ]
  },
  {
   "cell_type": "code",
   "execution_count": 56,
   "id": "0d87a8e6",
   "metadata": {},
   "outputs": [
    {
     "data": {
      "text/plain": [
       "<AxesSubplot:ylabel='count'>"
      ]
     },
     "execution_count": 56,
     "metadata": {},
     "output_type": "execute_result"
    },
    {
     "data": {
      "image/png": "[encoded data removed]",
      "text/plain": [
       "<Figure size 432x288 with 1 Axes>"
      ]
     },
     "metadata": {},
     "output_type": "display_data"
    }
   ],
   "source": [
    "df[\"disciplines_reco\"].value_counts().plot(kind=\"pie\")"
   ]
  },
  {
   "cell_type": "markdown",
   "id": "139ecf73",
   "metadata": {},
   "source": [
    "Autre méthode"
   ]
  },
  {
   "cell_type": "code",
   "execution_count": 57,
   "id": "e319ca5b",
   "metadata": {},
   "outputs": [],
   "source": [
    "def reco(cellule):\n",
    "    if (\"sociale\" in cellule) | (\"humaine\" in cellule):\n",
    "        return \"SHS\"\n",
    "    return cellule\n"
   ]
  },
  {
   "cell_type": "code",
   "execution_count": 62,
   "id": "a8a6d410",
   "metadata": {},
   "outputs": [],
   "source": [
    "df[\"disciplines_reco\"] = df[\"disciplines_9niv\"].apply(reco)"
   ]
  },
  {
   "cell_type": "code",
   "execution_count": null,
   "id": "fc3fc325",
   "metadata": {},
   "outputs": [],
   "source": []
  },
  {
   "cell_type": "code",
   "execution_count": 65,
   "id": "3a72540d",
   "metadata": {},
   "outputs": [],
   "source": [
    "df[\"annee_premiere_publi_reco\"] = pd.cut(df[\"annee_premiere_publi\"],\n",
    "                                         [1900,2000,2010,2030],\n",
    "                                         labels=[\"<2000\",\"2000-2010\",\">2010\"])"
   ]
  },
  {
   "cell_type": "code",
   "execution_count": 68,
   "id": "cb3a054e",
   "metadata": {},
   "outputs": [
    {
     "data": {
      "text/plain": [
       "<AxesSubplot:xlabel='annee_premiere_publi_reco'>"
      ]
     },
     "execution_count": 68,
     "metadata": {},
     "output_type": "execute_result"
    },
    {
     "data": {
      "image/png": "[encoded data removed]",
      "text/plain": [
       "<Figure size 432x288 with 1 Axes>"
      ]
     },
     "metadata": {
      "needs_background": "light"
     },
     "output_type": "display_data"
    }
   ],
   "source": [
    "df[\"annee_premiere_publi_reco\"].value_counts().plot(kind=\"bar\")"
   ]
  },
  {
   "cell_type": "markdown",
   "id": "2d36ec79",
   "metadata": {},
   "source": [
    "Pandas permet aussi la manipulation de tableau"
   ]
  },
  {
   "cell_type": "code",
   "execution_count": 77,
   "id": "f9ba384a",
   "metadata": {},
   "outputs": [],
   "source": [
    "df2 = df[df[\"annee_premiere_publi\"]>2010][[\"sexe\",\"disciplines_reco\"]]"
   ]
  },
  {
   "cell_type": "code",
   "execution_count": 80,
   "id": "bd362ace",
   "metadata": {},
   "outputs": [
    {
     "data": {
      "text/plain": [
       "disciplines_reco\n",
       "SHS                                               0.502778\n",
       "Mathématiques, Informatiques                      0.111111\n",
       "Sciences du vivant                                0.091667\n",
       "Science de l'ingénieur                            0.091667\n",
       "Médecine                                          0.061111\n",
       "Chimie, Matériaux                                 0.050000\n",
       "Lettres et Arts                                   0.047222\n",
       "Physique, Sciences de la terre et de l'Univers    0.038889\n",
       "Valeur manquante                                  0.005556\n",
       "Name: proportion, dtype: float64"
      ]
     },
     "execution_count": 80,
     "metadata": {},
     "output_type": "execute_result"
    }
   ],
   "source": [
    "df2[\"disciplines_reco\"].value_counts(normalize=True)"
   ]
  },
  {
   "cell_type": "markdown",
   "id": "658e9e48",
   "metadata": {},
   "source": [
    "Tableau croisé"
   ]
  },
  {
   "cell_type": "code",
   "execution_count": 85,
   "id": "b9d42335",
   "metadata": {},
   "outputs": [
    {
     "data": {
      "text/plain": [
       "<AxesSubplot:ylabel='disciplines_reco'>"
      ]
     },
     "execution_count": 85,
     "metadata": {},
     "output_type": "execute_result"
    },
    {
     "data": {
      "image/png": "[encoded data removed]",
      "text/plain": [
       "<Figure size 432x288 with 1 Axes>"
      ]
     },
     "metadata": {
      "needs_background": "light"
     },
     "output_type": "display_data"
    }
   ],
   "source": [
    "pd.crosstab(df[\"sexe\"],df[\"disciplines_reco\"]).T.plot(kind=\"barh\")"
   ]
  }
 ],
 "metadata": {
  "kernelspec": {
   "display_name": "Python 3 (ipykernel)",
   "language": "python",
   "name": "python3"
  },
  "language_info": {
   "codemirror_mode": {
    "name": "ipython",
    "version": 3
   },
   "file_extension": ".py",
   "mimetype": "text/x-python",
   "name": "python",
   "nbconvert_exporter": "python",
   "pygments_lexer": "ipython3",
   "version": "3.9.12"
  }
 },
 "nbformat": 4,
 "nbformat_minor": 5
}
