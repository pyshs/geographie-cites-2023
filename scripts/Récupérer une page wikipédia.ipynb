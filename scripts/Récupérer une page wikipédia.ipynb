{
 "cells": [
  {
   "cell_type": "markdown",
   "id": "e36aa0c8",
   "metadata": {},
   "source": [
    "# Récupérer une page wikipédia"
   ]
  },
  {
   "cell_type": "markdown",
   "id": "3223ab13",
   "metadata": {},
   "source": [
    "Utiliser le module urllib pour récupérer une page web"
   ]
  },
  {
   "cell_type": "code",
   "execution_count": 6,
   "id": "5879ce0f",
   "metadata": {},
   "outputs": [],
   "source": [
    "import urllib"
   ]
  },
  {
   "cell_type": "code",
   "execution_count": 8,
   "id": "7c8eac22",
   "metadata": {},
   "outputs": [],
   "source": [
    "url = \"https://fr.wikipedia.org/wiki/Sociologie\"\n",
    "\n",
    "page = urllib.request.urlopen(url)"
   ]
  },
  {
   "cell_type": "code",
   "execution_count": 9,
   "id": "52126524",
   "metadata": {},
   "outputs": [
    {
     "data": {
      "text/plain": [
       "http.client.HTTPResponse"
      ]
     },
     "execution_count": 9,
     "metadata": {},
     "output_type": "execute_result"
    }
   ],
   "source": [
    "type(page)"
   ]
  },
  {
   "cell_type": "code",
   "execution_count": 10,
   "id": "a2d08b3d",
   "metadata": {},
   "outputs": [],
   "source": [
    "contenu = page.read()"
   ]
  },
  {
   "cell_type": "code",
   "execution_count": 13,
   "id": "da5e4876",
   "metadata": {},
   "outputs": [],
   "source": [
    "contenu = str(contenu)"
   ]
  },
  {
   "cell_type": "code",
   "execution_count": 16,
   "id": "97851cd3",
   "metadata": {},
   "outputs": [
    {
     "data": {
      "text/plain": [
       "False"
      ]
     },
     "execution_count": 16,
     "metadata": {},
     "output_type": "execute_result"
    }
   ],
   "source": [
    "\"carte\" in contenu.lower()"
   ]
  },
  {
   "cell_type": "code",
   "execution_count": 19,
   "id": "99d23b4d",
   "metadata": {},
   "outputs": [
    {
     "data": {
      "text/plain": [
       "19"
      ]
     },
     "execution_count": 19,
     "metadata": {},
     "output_type": "execute_result"
    }
   ],
   "source": [
    "url = \"https://fr.wikipedia.org/wiki/G%C3%A9ographie\"\n",
    "page = urllib.request.urlopen(url)\n",
    "contenu = str(page.read())\n",
    "contenu.count(\"carte\")"
   ]
  },
  {
   "cell_type": "code",
   "execution_count": 20,
   "id": "df943274",
   "metadata": {},
   "outputs": [
    {
     "name": "stdout",
     "output_type": "stream",
     "text": [
      "https://fr.wikipedia.org/wiki/G%C3%A9ographie 19\n",
      "https://fr.wikipedia.org/wiki/Sociologie 0\n",
      "https://fr.wikipedia.org/wiki/Histoire 2\n"
     ]
    }
   ],
   "source": [
    "disciplines = [\"https://fr.wikipedia.org/wiki/G%C3%A9ographie\",\n",
    "               \"https://fr.wikipedia.org/wiki/Sociologie\",\n",
    "              \"https://fr.wikipedia.org/wiki/Histoire\"]\n",
    "for url in disciplines :\n",
    "    page = urllib.request.urlopen(url)\n",
    "    contenu = str(page.read())\n",
    "    print(url,contenu.count(\"carte\"))"
   ]
  },
  {
   "cell_type": "markdown",
   "id": "73bd22bf",
   "metadata": {},
   "source": [
    "### parenthèse : récupérer liens de la page\n",
    "\n",
    "(avec BeautifulSoup)"
   ]
  },
  {
   "cell_type": "code",
   "execution_count": 21,
   "id": "79644560",
   "metadata": {},
   "outputs": [],
   "source": [
    "import bs4"
   ]
  },
  {
   "cell_type": "code",
   "execution_count": 22,
   "id": "4bba478e",
   "metadata": {},
   "outputs": [],
   "source": [
    "contenu = bs4.BeautifulSoup(contenu)"
   ]
  },
  {
   "cell_type": "code",
   "execution_count": 23,
   "id": "7cdbce90",
   "metadata": {},
   "outputs": [
    {
     "data": {
      "text/plain": [
       "bs4.BeautifulSoup"
      ]
     },
     "execution_count": 23,
     "metadata": {},
     "output_type": "execute_result"
    }
   ],
   "source": [
    "type(contenu)"
   ]
  },
  {
   "cell_type": "code",
   "execution_count": 1,
   "id": "3b604ecf",
   "metadata": {},
   "outputs": [],
   "source": [
    "#[i[\"href\"] for i in contenu.find_all(\"a\")]"
   ]
  },
  {
   "cell_type": "markdown",
   "id": "859119fc",
   "metadata": {},
   "source": [
    "## utiliser requests\n",
    "\n",
    "Aller voir la page : https://requests.readthedocs.io/en/latest/"
   ]
  },
  {
   "cell_type": "code",
   "execution_count": 27,
   "id": "94caefbc",
   "metadata": {},
   "outputs": [
    {
     "name": "stdout",
     "output_type": "stream",
     "text": [
      "Requirement already satisfied: requests in /home/emilien/anaconda3/lib/python3.9/site-packages (2.27.1)\n",
      "Requirement already satisfied: urllib3<1.27,>=1.21.1 in /home/emilien/anaconda3/lib/python3.9/site-packages (from requests) (1.26.9)\n",
      "Requirement already satisfied: certifi>=2017.4.17 in /home/emilien/anaconda3/lib/python3.9/site-packages (from requests) (2021.10.8)\n",
      "Requirement already satisfied: charset-normalizer~=2.0.0 in /home/emilien/anaconda3/lib/python3.9/site-packages (from requests) (2.0.4)\n",
      "Requirement already satisfied: idna<4,>=2.5 in /home/emilien/anaconda3/lib/python3.9/site-packages (from requests) (3.3)\n",
      "Note: you may need to restart the kernel to use updated packages.\n"
     ]
    }
   ],
   "source": [
    "pip install requests"
   ]
  },
  {
   "cell_type": "code",
   "execution_count": 28,
   "id": "c678b241",
   "metadata": {},
   "outputs": [],
   "source": [
    "import requests"
   ]
  },
  {
   "cell_type": "markdown",
   "id": "04d17bab",
   "metadata": {},
   "source": [
    "Faire un test"
   ]
  },
  {
   "cell_type": "code",
   "execution_count": 33,
   "id": "b21c09a9",
   "metadata": {},
   "outputs": [],
   "source": [
    "page = requests.get(url)\n",
    "#page.text"
   ]
  },
  {
   "cell_type": "markdown",
   "id": "628d3c1f",
   "metadata": {},
   "source": [
    "Petit exercice : récupérer les pages de trois disciplines de SHS et les stocker dans des fichiers .html sur le disque dur\n",
    "\n",
    "- définir une dictionnaire de discipline\n",
    "- faire une boucle sur le dictionnaire\n",
    " - récupérer le contenu\n",
    " - créer un fichier en mode écriture avec le nom de la discipline + .html\n",
    " - écrire dans le fichier"
   ]
  },
  {
   "cell_type": "code",
   "execution_count": 40,
   "id": "77224553",
   "metadata": {},
   "outputs": [],
   "source": [
    "disciplines = [\"Sociologie\",\"Histoire\",\"Géographie\"]\n",
    "urls = [\"https://fr.wikipedia.org/wiki/Sociologie\",\"https://fr.wikipedia.org/wiki/Histoire\",\n",
    "       \"https://fr.wikipedia.org/wiki/G%C3%A9ographie\"]"
   ]
  },
  {
   "cell_type": "code",
   "execution_count": 42,
   "id": "500e4622",
   "metadata": {},
   "outputs": [
    {
     "name": "stdout",
     "output_type": "stream",
     "text": [
      "Sociologie https://fr.wikipedia.org/wiki/Sociologie\n",
      "Histoire https://fr.wikipedia.org/wiki/Histoire\n",
      "Géographie https://fr.wikipedia.org/wiki/G%C3%A9ographie\n"
     ]
    }
   ],
   "source": [
    "for i,j in zip(disciplines,urls):\n",
    "    print(i,j)"
   ]
  },
  {
   "cell_type": "code",
   "execution_count": 44,
   "id": "7a755fc5",
   "metadata": {},
   "outputs": [
    {
     "name": "stdout",
     "output_type": "stream",
     "text": [
      "Sociologie\n",
      "Histoire\n",
      "Géographie\n"
     ]
    }
   ],
   "source": [
    "disciplines       =        {\n",
    "        \"Sociologie\"  :  \"https://fr.wikipedia.org/wiki/Sociologie\" ,\n",
    "        \"Histoire\"   : \"https://fr.wikipedia.org/wiki/Histoire\",\n",
    "        \"Géographie\"  :      \"https://fr.wikipedia.org/wiki/G%C3%A9ographie\"\n",
    "                }\n",
    "\n",
    "for d in disciplines : \n",
    "    url = disciplines[d]\n",
    "    texte = requests.get(url).text\n",
    "    \n",
    "    with open(d+\".html\",\"w\",encoding=\"utf-8\") as fichier: #en mode écriture (write) / \"r\", \"a\",\"rb\" ,\"wb\"\n",
    "        fichier.write(texte)\n",
    "        \n",
    "    #fichier = open(d+\".html\",\"w\")\n",
    "    #fichier.write(texte)\n",
    "    #fichier.close()\n",
    "        \n",
    "    print(d)\n"
   ]
  },
  {
   "cell_type": "markdown",
   "id": "e343069f",
   "metadata": {},
   "source": [
    "## Utiliser une bibliothèque dédiée"
   ]
  },
  {
   "cell_type": "code",
   "execution_count": 45,
   "id": "054f721c",
   "metadata": {},
   "outputs": [
    {
     "name": "stdout",
     "output_type": "stream",
     "text": [
      "Collecting wikipedia\n",
      "  Using cached wikipedia-1.4.0.tar.gz (27 kB)\n",
      "Requirement already satisfied: beautifulsoup4 in /home/emilien/anaconda3/lib/python3.9/site-packages (from wikipedia) (4.11.1)\n",
      "Requirement already satisfied: requests<3.0.0,>=2.0.0 in /home/emilien/anaconda3/lib/python3.9/site-packages (from wikipedia) (2.27.1)\n",
      "Requirement already satisfied: idna<4,>=2.5 in /home/emilien/anaconda3/lib/python3.9/site-packages (from requests<3.0.0,>=2.0.0->wikipedia) (3.3)\n",
      "Requirement already satisfied: charset-normalizer~=2.0.0 in /home/emilien/anaconda3/lib/python3.9/site-packages (from requests<3.0.0,>=2.0.0->wikipedia) (2.0.4)\n",
      "Requirement already satisfied: urllib3<1.27,>=1.21.1 in /home/emilien/anaconda3/lib/python3.9/site-packages (from requests<3.0.0,>=2.0.0->wikipedia) (1.26.9)\n",
      "Requirement already satisfied: certifi>=2017.4.17 in /home/emilien/anaconda3/lib/python3.9/site-packages (from requests<3.0.0,>=2.0.0->wikipedia) (2021.10.8)\n",
      "Requirement already satisfied: soupsieve>1.2 in /home/emilien/anaconda3/lib/python3.9/site-packages (from beautifulsoup4->wikipedia) (2.3.1)\n",
      "Building wheels for collected packages: wikipedia\n",
      "  Building wheel for wikipedia (setup.py) ... \u001b[?25ldone\n",
      "\u001b[?25h  Created wheel for wikipedia: filename=wikipedia-1.4.0-py3-none-any.whl size=11695 sha256=f3e08103168c1c7de98084b444b182acbf76cc38bc68579c75322a1fa7538298\n",
      "  Stored in directory: /home/emilien/.cache/pip/wheels/c2/46/f4/caa1bee71096d7b0cdca2f2a2af45cacf35c5760bee8f00948\n",
      "Successfully built wikipedia\n",
      "Installing collected packages: wikipedia\n",
      "Successfully installed wikipedia-1.4.0\n",
      "Note: you may need to restart the kernel to use updated packages.\n"
     ]
    }
   ],
   "source": [
    "pip install wikipedia"
   ]
  },
  {
   "cell_type": "code",
   "execution_count": 46,
   "id": "0c6f03bb",
   "metadata": {},
   "outputs": [],
   "source": [
    "import wikipedia"
   ]
  },
  {
   "cell_type": "code",
   "execution_count": 48,
   "id": "3ffe1d47",
   "metadata": {},
   "outputs": [
    {
     "data": {
      "text/plain": [
       "['Sociology',\n",
       " 'Sociology of sociology',\n",
       " 'Dyad (sociology)',\n",
       " 'Deviance (sociology)',\n",
       " 'Political sociology',\n",
       " 'Dramaturgy (sociology)',\n",
       " 'Economic sociology',\n",
       " 'Sociology (disambiguation)',\n",
       " 'Outline of sociology',\n",
       " 'Rural sociology']"
      ]
     },
     "execution_count": 48,
     "metadata": {},
     "output_type": "execute_result"
    }
   ],
   "source": [
    "wikipedia.search(\"Sociology\")"
   ]
  },
  {
   "cell_type": "code",
   "execution_count": 2,
   "id": "0323832e",
   "metadata": {},
   "outputs": [],
   "source": [
    "#wikipedia.page(\"Sociology\").content"
   ]
  }
 ],
 "metadata": {
  "kernelspec": {
   "display_name": "Python 3 (ipykernel)",
   "language": "python",
   "name": "python3"
  },
  "language_info": {
   "codemirror_mode": {
    "name": "ipython",
    "version": 3
   },
   "file_extension": ".py",
   "mimetype": "text/x-python",
   "name": "python",
   "nbconvert_exporter": "python",
   "pygments_lexer": "ipython3",
   "version": "3.9.12"
  }
 },
 "nbformat": 4,
 "nbformat_minor": 5
}
